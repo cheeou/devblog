{
  "nbformat": 4,
  "nbformat_minor": 0,
  "metadata": {
    "colab": {
      "name": "2021-07-19-My-First-Post.ipynb",
      "provenance": []
    },
    "kernelspec": {
      "name": "python3",
      "display_name": "Python 3"
    },
    "language_info": {
      "name": "python"
    }
  },
  "cells": [
    {
      "cell_type": "markdown",
      "metadata": {
        "id": "2KclKqzbtMBt"
      },
      "source": [
        "# \"Sending Json data\"\n",
        "> \"요약\"\n",
        "\n",
        "- toc: false\n",
        "- branch: master\n",
        "- badges: true\n",
        "- comments: true\n",
        "- categories: [fastpages, jupyter]\n",
        "\n",
        "link : \n",
        "https://caileb.tistory.com/192"
      ]
    }
  ]
}