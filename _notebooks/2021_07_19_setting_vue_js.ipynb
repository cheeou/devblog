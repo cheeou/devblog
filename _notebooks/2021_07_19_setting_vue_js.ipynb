{
  "nbformat": 4,
  "nbformat_minor": 0,
  "metadata": {
    "colab": {
      "name": "2021-07-19-setting-vue-js.ipynb",
      "provenance": [],
      "collapsed_sections": []
    },
    "kernelspec": {
      "name": "python3",
      "display_name": "Python 3"
    },
    "language_info": {
      "name": "python"
    }
  },
  "cells": [
    {
      "cell_type": "markdown",
      "metadata": {
        "id": "2KclKqzbtMBt"
      },
      "source": [
        "# \"Vue.js 세팅\"\n",
        "> \n",
        "\n",
        "- toc: false\n",
        "- branch: master\n",
        "- badges: true\n",
        "- comments: true\n",
        "- categories: [vuejs]\n"
      ]
    },
    {
      "cell_type": "markdown",
      "metadata": {
        "id": "gE3XZbkdtkg6"
      },
      "source": [
        "\n",
        "### 1. About Vue.js\n",
        "\n",
        "* vue project를 생성하기 위해 *npm*을 이용하여 @vue/cli를 설치한다.\n",
        "* vue-cli는 vue project를 신속하게 생성해 주는 라이브러리이다.\n",
        "*   npm은 node.js 기반으로 만들어진 각종 웹 개발 라이브러리 설치 도우미(pakage manager)이다. npm을 이용하려면 node.js 설치는 필수다. \n",
        "\n",
        "* 웹브라우저는 vue 소스코드를 해석할 수 없다. \n",
        "<br>App.vue에 있던 파일을 index.html로 변환하여 실제 동작을 할 수 있도록 한다.\n",
        "\n",
        "### 2. folder별 분류 \n",
        "* node_modules: 프로젝트에 쓰는 라이브러리들 모음\n",
        "* src: 소스코드를 담는 폴더\n",
        "* public: html 파일, 기타 파일 보관\n",
        "* pakage.json: 라이브러리 버전, 프로젝트 설정 기록\n",
        "\n",
        "### 3. vue 문법\n",
        "&#9989;\n",
        "{{ 데이터 바인딩 }} : 두 중괄호 안에 data 변수 명으로 가변적인 데이터를 연결해서, 실시간 자동 랜더링(data를 변경하면 변경 사항이 자동으로 html에 실시간에 반영됨)을 할 수 있다.<br>\n",
        "&#10102;\thtml 속성에 바인딩은[ ':' ]로 바인딩 표시(ex :id=\"data 변수명\")\n",
        "<br>&#10103; tag 사이 내용에 데이터 바인딩은 {{ 데이터 변수명 }}\n",
        "\n",
        "&#9989; v-for 반복 문법<br>\n",
        "\n",
        "\n",
        "\n",
        "\n",
        "\n",
        "\n",
        "\n",
        "\n",
        "\n",
        "\n",
        "\n",
        "\n"
      ]
    },
    {
      "cell_type": "code",
      "metadata": {
        "id": "GR4vTQaUkztc"
      },
      "source": [
        "<tag v-for=\"작명 in 반복횟수\" :key=\"작명\">"
      ],
      "execution_count": null,
      "outputs": []
    },
    {
      "cell_type": "markdown",
      "metadata": {
        "id": "t5kNIMiNnK67"
      },
      "source": [
        "&#10104; :key는 반복문쓸 때 증가하는 변수로써(index 개념) 반드시 정의 해주어야함.<br>반복문 돌린 요소를 컴퓨터가 구분하기 위해 사용한다. <br>index개념으로 1씩 증가하여 반복되는 데이터의 변화값을 나타낸다."
      ]
    }
  ]
}